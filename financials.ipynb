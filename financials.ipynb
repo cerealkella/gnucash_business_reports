{
 "cells": [
  {
   "cell_type": "code",
   "execution_count": null,
   "metadata": {},
   "outputs": [],
   "source": [
    "from gnucash_business_reports.builder import GnuCash_Data_Analysis\n",
    "\n",
    "gda = GnuCash_Data_Analysis()\n",
    "gda.year = 2024"
   ]
  },
  {
   "cell_type": "code",
   "execution_count": null,
   "metadata": {},
   "outputs": [],
   "source": [
    "gda.sanity_checker()"
   ]
  },
  {
   "cell_type": "code",
   "execution_count": null,
   "metadata": {},
   "outputs": [],
   "source": [
    "gda.get_balance_sheet()"
   ]
  },
  {
   "cell_type": "code",
   "execution_count": null,
   "metadata": {},
   "outputs": [],
   "source": [
    "# print(gda.get_executive_summary(include_depreciation=False))\n",
    "# df = gda.get_farm_cash_transactions(include_depreciation=True)\n",
    "# print(df.dtypes)\n",
    "# print(df.sort_values(\"account_code\").groupby([\"account_code\", \"account_name\"]).sum())\n",
    "# print(gda.get_summary_by_account())\n",
    "\n",
    "# flex = gda.flexible_lease_calculator()\n",
    "\n",
    "# flex.to_csv(\"export/flex.csv\")\n",
    "# print(gda.get_corporation_value())\n",
    "# print(gda.get_personal_business_expenses())\n",
    "\n",
    "# gda.get_production().to_csv(f\"export/{gda.year}-production.csv\")"
   ]
  },
  {
   "cell_type": "code",
   "execution_count": null,
   "metadata": {},
   "outputs": [],
   "source": [
    "gda.get_balance_sheet_details()"
   ]
  },
  {
   "cell_type": "code",
   "execution_count": null,
   "metadata": {},
   "outputs": [],
   "source": [
    "grain = gda.get_grain_invoices()\n",
    "open_contracts = grain[grain[\"Fulfilled\"] == False].set_index(\"Invoice\", drop=True)\n",
    "print(open_contracts[[\"Crop\", \"Bushels\", \"Code\"]])\n",
    "open_contracts[[\"Crop\", \"Bushels\", \"Code\"]].groupby([\"Crop\", \"Code\"]).sum()"
   ]
  },
  {
   "cell_type": "code",
   "execution_count": null,
   "metadata": {},
   "outputs": [],
   "source": [
    "grain = (\n",
    "            gda.get_commodity_stock_values([\"account_desc\", \"commodity_guid\"])\n",
    "        ).reset_index().set_index(\"account_desc\")\n",
    "grain[\"abs_qty\"] = abs(grain[\"qty\"])\n",
    "grain[\"abs_qty\"]"
   ]
  }
 ],
 "metadata": {
  "kernelspec": {
   "display_name": "python-3.12",
   "language": "python",
   "name": "python3"
  },
  "language_info": {
   "codemirror_mode": {
    "name": "ipython",
    "version": 3
   },
   "file_extension": ".py",
   "mimetype": "text/x-python",
   "name": "python",
   "nbconvert_exporter": "python",
   "pygments_lexer": "ipython3",
   "version": "3.12.5"
  }
 },
 "nbformat": 4,
 "nbformat_minor": 2
}
