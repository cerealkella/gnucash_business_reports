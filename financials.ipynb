{
 "cells": [
  {
   "cell_type": "code",
   "execution_count": null,
   "metadata": {},
   "outputs": [],
   "source": [
    "from gnucash_business_reports.builder import GnuCash_Data_Analysis\n",
    "import numpy as np\n",
    "from great_tables import GT, md\n",
    "import polars as pl\n",
    "import polars.selectors as cs\n",
    "import pandas as pd\n",
    "from pathlib import Path\n",
    "\n",
    "\n",
    "gda = GnuCash_Data_Analysis()\n",
    "gda.year = 2024"
   ]
  },
  {
   "cell_type": "code",
   "execution_count": null,
   "metadata": {},
   "outputs": [],
   "source": [
    "gda.sanity_checker()"
   ]
  },
  {
   "cell_type": "code",
   "execution_count": null,
   "metadata": {},
   "outputs": [],
   "source": [
    "gda.get_balance_sheet()"
   ]
  },
  {
   "cell_type": "code",
   "execution_count": null,
   "metadata": {},
   "outputs": [],
   "source": [
    "# print(gda.get_executive_summary(include_depreciation=False))\n",
    "# df = gda.get_farm_cash_transactions(include_depreciation=True)\n",
    "# print(df.dtypes)\n",
    "# print(df.sort_values(\"account_code\").groupby([\"account_code\", \"account_name\"]).sum())\n",
    "# print(gda.get_summary_by_account())\n",
    "\n",
    "# flex = gda.flexible_lease_calculator()\n",
    "\n",
    "# flex.to_csv(\"export/flex.csv\")\n",
    "# print(gda.get_corporation_value())\n",
    "# print(gda.get_personal_business_expenses())\n",
    "\n",
    "# gda.get_production().to_csv(f\"export/{gda.year}-production.csv\")"
   ]
  },
  {
   "cell_type": "code",
   "execution_count": null,
   "metadata": {},
   "outputs": [],
   "source": [
    "gda.get_balance_sheet_details()"
   ]
  },
  {
   "cell_type": "code",
   "execution_count": null,
   "metadata": {},
   "outputs": [],
   "source": [
    "grain = gda.get_grain_invoices()\n",
    "open_contracts = grain[grain[\"Fulfilled\"] == False].set_index(\"Invoice\", drop=True)\n",
    "print(open_contracts[[\"Crop\", \"Bushels\", \"Code\"]])\n",
    "open_contracts[[\"Crop\", \"Bushels\", \"Code\"]].groupby([\"Crop\", \"Code\"]).sum()"
   ]
  },
  {
   "cell_type": "code",
   "execution_count": null,
   "metadata": {},
   "outputs": [],
   "source": [
    "open_contracts[[\"Crop\", \"Bushels\", \"Code\"]].groupby([\"Crop\", \"Code\"]).sum().to_html()"
   ]
  },
  {
   "cell_type": "code",
   "execution_count": null,
   "metadata": {},
   "outputs": [],
   "source": [
    "# gda.get_all_cash_transactions().groupby([\"account_desc\"]).agg(\"post_date\", np.max)\n",
    "# latest_tx = gda.get_all_transactions().groupby([\"account_desc\"]).agg(max_date=(\"post_date\", max))\n",
    "latest_tx = gda.get_all_transactions().groupby([\"account_desc\"])[\"post_date\"].max() #.reset_index().set_index(\"account_desc\")\n",
    "latest_tx"
   ]
  },
  {
   "cell_type": "code",
   "execution_count": null,
   "metadata": {},
   "outputs": [],
   "source": [
    "latest = latest_tx.loc[latest_tx.index.str.match(\"Delivered\")]\n",
    "last_delivery = latest.max()"
   ]
  },
  {
   "cell_type": "code",
   "execution_count": null,
   "metadata": {},
   "outputs": [],
   "source": [
    "gda.year = 2024\n",
    "grain = (\n",
    "            gda.get_commodity_stock_values([\"account_name\", \"account_desc\", \"commodity_guid\"])\n",
    "        ).reset_index().set_index([\"account_desc\"])\n",
    "grain[\"abs_qty\"] = abs(grain[\"qty\"])\n",
    "grain = grain.join(latest_tx)\n",
    "grain[[\"abs_qty\", \"post_date\"]]"
   ]
  },
  {
   "cell_type": "code",
   "execution_count": null,
   "metadata": {},
   "outputs": [],
   "source": [
    "df = pd.pivot_table(grain, values=\"abs_qty\", index=\"account_name\", columns=\"account_desc\").fillna(0)\n",
    "df[\"Contracted\"] = df[\"Contracted Corn\"] + df[\"Contracted Soybeans\"]\n",
    "df[\"Delivered\"] = df[\"Delivered Corn\"] + df[\"Delivered Soybeans\"] + 3000\n",
    "df[\"Harvested\"] = df[\"Harvested Corn\"] + df[\"Harvested Soybeans\"] + 6000\n",
    "df = df[[\"Contracted\", \"Delivered\", \"Harvested\"]]\n",
    "df[\"Total\"] = df[\"Delivered\"] + df[\"Harvested\"]\n",
    "df[\"pct\"] = df[\"Delivered\"] / df[\"Contracted\"]\n",
    "df"
   ]
  },
  {
   "cell_type": "code",
   "execution_count": null,
   "metadata": {},
   "outputs": [],
   "source": [
    "def create_bar(prop_fill: float, max_width: int, height: int) -> str:\n",
    "    \"\"\"Create divs to represent prop_fill as a bar.\"\"\"\n",
    "    if prop_fill > 1:\n",
    "        prop_fill = 1\n",
    "    width = round(max_width * prop_fill, 2)\n",
    "    px_width = f\"{width}px\"\n",
    "    return f\"\"\"\\\n",
    "    <div style=\"width: {max_width}px; background-color: lightgrey;\">\\\n",
    "        <div style=\"height:{height}px;width:{px_width};background-color:green;\"></div>\\\n",
    "    </div>\\\n",
    "    \"\"\"\n",
    "\n",
    "df = pl.from_pandas(df.reset_index())\n",
    "\n",
    "res = (\n",
    "    df.with_columns(\n",
    "        (pl.col(\"Delivered\") / pl.col(\"Contracted\")).alias(\"raw_perc\"),\n",
    "        (pl.col(\"account_name\").str.to_lowercase() + \".png\").alias(\"icon\"),\n",
    "    )\n",
    "    .head(9)\n",
    "    .with_columns(\n",
    "        pl.col(\"raw_perc\")\n",
    "          .map_elements(lambda x: create_bar(x, max_width=75, height=20))\n",
    "          .alias(\"Progress\")\n",
    "    )\n",
    "    .select(\"icon\", \"Contracted\", \"Delivered\", \"Harvested\", \"Total\", \"Progress\")\n",
    ")\n",
    "res"
   ]
  },
  {
   "cell_type": "code",
   "execution_count": null,
   "metadata": {},
   "outputs": [],
   "source": [
    "table = (\n",
    "    GT(res, rowname_col=\"icon\")\n",
    "    .tab_header(title=f\"{gda.year} Harvest\",\n",
    "                subtitle=\"Progress towards filling contracts\"\n",
    "                )\n",
    "    .tab_stubhead(label=\"Crop\")\n",
    "    # .tab_spanner(\"Earnings\", cs.contains(\"Earnings\"))\n",
    "    .fmt_number([\"Contracted\", \"Delivered\", \"Harvested\", \"Total\"], decimals=0)\n",
    "    # .tab_options(table_font_size=\"300%\")\n",
    "    \n",
    "    # .cols_label(**{\n",
    "    #     \"Total Earnings\": \"Total $M\",\n",
    "    #     \"Off-the-Field Earnings\": \"Off field $M\",\n",
    "    #     \"Off-the-Field Earnings Perc\": \"Off field %\"\n",
    "    # })\n",
    "    # .fmt_number([\"Total Earnings\", \"Off-the-Field Earnings\"], scale_by = 1/1_000_000, decimals=1)\n",
    "    .fmt_image(\"icon\", path=\"./img/\")\n",
    "    .tab_source_note(\n",
    "        md(\n",
    "            '<br><div style=\"text-align: center;\">'\n",
    "            \"GNUCash Accounting\"\n",
    "            f\" | Last Recorded Delivery: {last_delivery.strftime('%Y-%m-%d')}\"\n",
    "            \"</div>\"\n",
    "            \"<br>\"\n",
    "        )\n",
    "    )\n",
    ")\n",
    "table"
   ]
  },
  {
   "cell_type": "code",
   "execution_count": null,
   "metadata": {},
   "outputs": [],
   "source": [
    "html = table.as_raw_html()\n",
    "path = Path(\"./table.html\")\n",
    "path.write_text(html)"
   ]
  },
  {
   "cell_type": "code",
   "execution_count": null,
   "metadata": {},
   "outputs": [],
   "source": [
    "gda.year = 2023\n",
    "production = GT(gda.get_production().reset_index())\n",
    "gda.year = 2024\n",
    "production"
   ]
  }
 ],
 "metadata": {
  "kernelspec": {
   "display_name": "python-3.12",
   "language": "python",
   "name": "python3"
  },
  "language_info": {
   "codemirror_mode": {
    "name": "ipython",
    "version": 3
   },
   "file_extension": ".py",
   "mimetype": "text/x-python",
   "name": "python",
   "nbconvert_exporter": "python",
   "pygments_lexer": "ipython3",
   "version": "3.12.5"
  }
 },
 "nbformat": 4,
 "nbformat_minor": 2
}
