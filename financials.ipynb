{
 "cells": [
  {
   "cell_type": "code",
   "execution_count": null,
   "metadata": {},
   "outputs": [],
   "source": [
    "from gnucash_business_reports.builder import GnuCash_Data_Analysis\n",
    "import numpy as np\n",
    "from great_tables import GT, md\n",
    "import polars as pl\n",
    "import polars.selectors as cs\n",
    "import pandas as pd\n",
    "from pathlib import Path\n",
    "\n",
    "\n",
    "gda = GnuCash_Data_Analysis()\n",
    "gda.year = 2024"
   ]
  },
  {
   "cell_type": "code",
   "execution_count": null,
   "metadata": {},
   "outputs": [],
   "source": [
    "gda.sanity_checker()"
   ]
  },
  {
   "cell_type": "code",
   "execution_count": null,
   "metadata": {},
   "outputs": [],
   "source": [
    "gda.get_balance_sheet()"
   ]
  },
  {
   "cell_type": "code",
   "execution_count": null,
   "metadata": {},
   "outputs": [],
   "source": [
    "# print(gda.get_executive_summary(include_depreciation=False))\n",
    "# df = gda.get_farm_cash_transactions(include_depreciation=True)\n",
    "# print(df.dtypes)\n",
    "# print(df.sort_values(\"account_code\").groupby([\"account_code\", \"account_name\"]).sum())\n",
    "# print(gda.get_summary_by_account())\n",
    "\n",
    "# flex = gda.flexible_lease_calculator()\n",
    "\n",
    "# flex.to_csv(\"export/flex.csv\")\n",
    "# print(gda.get_corporation_value())\n",
    "# print(gda.get_personal_business_expenses())\n",
    "\n",
    "# gda.get_production().to_csv(f\"export/{gda.year}-production.csv\")"
   ]
  },
  {
   "cell_type": "code",
   "execution_count": null,
   "metadata": {},
   "outputs": [],
   "source": [
    "gda.get_balance_sheet_details()"
   ]
  },
  {
   "cell_type": "code",
   "execution_count": null,
   "metadata": {},
   "outputs": [],
   "source": [
    "grain = gda.get_grain_invoices()\n",
    "open_contracts = grain[grain[\"Fulfilled\"] == False].set_index(\"Invoice\", drop=True)\n",
    "print(open_contracts[[\"Crop\", \"Bushels\", \"Code\"]])\n",
    "open_contracts[[\"Crop\", \"Bushels\", \"Code\"]].groupby([\"Crop\", \"Code\"]).sum()"
   ]
  },
  {
   "cell_type": "code",
   "execution_count": null,
   "metadata": {},
   "outputs": [],
   "source": [
    "open_contracts[[\"Crop\", \"Bushels\", \"Code\"]].groupby([\"Crop\", \"Code\"]).sum().to_html()"
   ]
  },
  {
   "cell_type": "code",
   "execution_count": null,
   "metadata": {},
   "outputs": [],
   "source": [
    "# gda.get_all_cash_transactions().groupby([\"account_desc\"]).agg(\"post_date\", np.max)\n",
    "# latest_tx = gda.get_all_transactions().groupby([\"account_desc\"]).agg(max_date=(\"post_date\", max))\n",
    "latest_tx = gda.get_all_transactions().groupby([\"account_desc\"])[\"post_date\"].max() #.reset_index().set_index(\"account_desc\")\n",
    "latest_tx"
   ]
  },
  {
   "cell_type": "code",
   "execution_count": null,
   "metadata": {},
   "outputs": [],
   "source": [
    "latest = latest_tx.loc[latest_tx.index.str.match(\"Delivered\")]\n",
    "last_delivery = latest.max()"
   ]
  },
  {
   "cell_type": "code",
   "execution_count": null,
   "metadata": {},
   "outputs": [],
   "source": [
    "gda.year = 2024\n",
    "grain = (\n",
    "            gda.get_commodity_stock_values([\"account_name\", \"account_desc\", \"commodity_guid\"])\n",
    "        ).reset_index().set_index([\"account_desc\"])\n",
    "grain[\"abs_qty\"] = abs(grain[\"qty\"])\n",
    "grain = grain.join(latest_tx)\n",
    "grain[[\"abs_qty\", \"post_date\"]]"
   ]
  },
  {
   "cell_type": "code",
   "execution_count": null,
   "metadata": {},
   "outputs": [],
   "source": [
    "df = pd.pivot_table(grain, values=\"abs_qty\", index=\"account_name\", columns=\"account_desc\").fillna(0)\n",
    "df[\"Contracted\"] = df[\"Contracted Corn\"] + df[\"Contracted Soybeans\"]\n",
    "df[\"Delivered\"] = df[\"Delivered Corn\"] + df[\"Delivered Soybeans\"]\n",
    "df[\"Harvested\"] = df[\"Harvested Corn\"] + df[\"Harvested Soybeans\"]\n",
    "df = df[[\"Contracted\", \"Delivered\", \"Harvested\"]]\n",
    "df[\"Total\"] = df[\"Delivered\"] + df[\"Harvested\"]\n",
    "df[\"pct\"] = df[\"Delivered\"] / df[\"Contracted\"]\n",
    "df"
   ]
  },
  {
   "cell_type": "code",
   "execution_count": null,
   "metadata": {},
   "outputs": [],
   "source": [
    "def create_bar(prop_fill: float, max_width: int, height: int) -> str:\n",
    "    \"\"\"Create divs to represent prop_fill as a bar.\"\"\"\n",
    "    if prop_fill > 1:\n",
    "        prop_fill = 1\n",
    "    width = round(max_width * prop_fill, 2)\n",
    "    px_width = f\"{width}px\"\n",
    "    return f\"\"\"\\\n",
    "    <div style=\"width: {max_width}px; background-color: lightgrey;\">\\\n",
    "        <div style=\"height:{height}px;width:{px_width};background-color:green;\"></div>\\\n",
    "    </div>\\\n",
    "    \"\"\"\n",
    "\n",
    "df = pl.from_pandas(df.reset_index())\n",
    "\n",
    "zoom_level = 100 # 250\n",
    "res = (\n",
    "    df.with_columns(\n",
    "        (pl.col(\"Delivered\") / pl.col(\"Contracted\")).alias(\"raw_perc\"),\n",
    "        (pl.col(\"account_name\").str.to_lowercase() + \".png\").alias(\"icon\"),\n",
    "    )\n",
    "    .head(9)\n",
    "    .with_columns(\n",
    "        pl.col(\"raw_perc\")\n",
    "          .map_elements(lambda x: create_bar(x, max_width=75*(zoom_level/100), height=20*(zoom_level/100)))\n",
    "          .alias(\"Progress\")\n",
    "    )\n",
    "    .select(\"icon\", \"Contracted\", \"Delivered\", \"Harvested\", \"Total\", \"Progress\")\n",
    ")\n",
    "res"
   ]
  },
  {
   "cell_type": "code",
   "execution_count": null,
   "metadata": {},
   "outputs": [],
   "source": [
    "table = (\n",
    "    GT(res, rowname_col=\"icon\")\n",
    "    .tab_header(title=f\"{gda.year} Harvest\",\n",
    "                subtitle=\"Progress towards filling contracts\"\n",
    "                )\n",
    "    .tab_stubhead(label=\"Crop\")\n",
    "    # .tab_spanner(\"Earnings\", cs.contains(\"Earnings\"))\n",
    "    .fmt_number([\"Contracted\", \"Delivered\", \"Harvested\", \"Total\"], decimals=0)    \n",
    "    # .cols_label(**{\n",
    "    #     \"Total Earnings\": \"Total $M\",\n",
    "    #     \"Off-the-Field Earnings\": \"Off field $M\",\n",
    "    #     \"Off-the-Field Earnings Perc\": \"Off field %\"\n",
    "    # })\n",
    "    # .fmt_number([\"Total Earnings\", \"Off-the-Field Earnings\"], scale_by = 1/1_000_000, decimals=1)\n",
    "    .fmt_image(\"icon\", path=\"./img/\")\n",
    "    .tab_source_note(\n",
    "        md(\n",
    "            '<br><div style=\"text-align: center;\">'\n",
    "            \"GNUCash / Meadowland Portal\"\n",
    "            f\" | Last Recorded Delivery: {last_delivery.strftime('%Y-%m-%d')}\"\n",
    "            \"</div>\"\n",
    "            \"<br>\"\n",
    "        )\n",
    "    )\n",
    ")\n",
    "table"
   ]
  },
  {
   "cell_type": "code",
   "execution_count": null,
   "metadata": {},
   "outputs": [],
   "source": [
    "path = Path(f\"{gda.get_config()[\"Paths\"][\"html\"]}/contract-progress.html\")\n",
    "path.write_text(table.as_raw_html())"
   ]
  },
  {
   "cell_type": "code",
   "execution_count": null,
   "metadata": {},
   "outputs": [],
   "source": [
    "gnuc_prod = gda.get_production().reset_index() \\\n",
    "            .rename(columns={\"operation\": \"Farm\",\n",
    "                             \"crop\": \"Crop\",\n",
    "                             }) \\\n",
    "            .drop(columns=[\"bu_per_acre\", \"operation_id\"]) \\\n",
    "            .groupby([\"Farm\", \"Crop\"]) \\\n",
    "            .sum(numeric_only=True)\n",
    "gnuc_prod"
   ]
  },
  {
   "cell_type": "code",
   "execution_count": null,
   "metadata": {},
   "outputs": [],
   "source": [
    "def filter_rows_by_values(df, col, values):\n",
    "    return df[~df[col].isin(values)]\n",
    "\n",
    "jd_data = pd.read_excel(\"/home/justin/Downloads/Harvest_2024 (1).xlsx\")\n",
    "jd_data = filter_rows_by_values(jd_data, \"Varieties\", [\"---\"])\n",
    "jd_data = filter_rows_by_values(jd_data, \"Moisture\", [\"---\"])\n",
    "jd_data = filter_rows_by_values(jd_data, \"Farms\", [\"Morin Currie Farms\"])\n",
    "jd_data = jd_data.rename(columns={\"Farms\": \"Farm\",\n",
    "                             \"Crop Type\": \"Crop\",\n",
    "                             }) \\\n",
    "    .groupby([\"Farm\", \"Crop\"]) \\\n",
    "    .agg(Harvested=(\"Area Harvested\", \"sum\"),\\\n",
    "         Dry_Yield=(\"Total Dry Yield\", \"sum\"), \\\n",
    "         Moisture=(\"Moisture\", \"mean\"), \\\n",
    "         Date=(\"Last Harvested\", \"max\")) \\\n",
    "    .reset_index() \\\n",
    "    .set_index([\"Farm\", \"Crop\"])\n",
    "jd_data.head()"
   ]
  },
  {
   "cell_type": "code",
   "execution_count": null,
   "metadata": {},
   "outputs": [],
   "source": [
    "production = jd_data.join(gnuc_prod).fillna(0)\n",
    "production[\"New Bushels\"] = production[\"Dry_Yield\"] - production[\"total_bushels\"]\n",
    "production.head(10)"
   ]
  },
  {
   "cell_type": "code",
   "execution_count": null,
   "metadata": {},
   "outputs": [],
   "source": [
    "production[\"Bu/Acres Worked\"] = production[\"total_bushels\"] / production[\"Harvested\"]\n",
    "production[\"Bu/Total Acres\"] = production[\"total_bushels\"] / production[\"acres\"]\n",
    "production = production.rename(columns={\"operation\": \"Farm\",\n",
    "                                        \"acres\": \"Total Acres\",\n",
    "                                        \"total_bushels\": \"Bushels\",\n",
    "                                        \"Harvested\": \"Acres Worked\"}) \\\n",
    "                                .sort_values(\"Date\")\n",
    "production"
   ]
  },
  {
   "cell_type": "code",
   "execution_count": null,
   "metadata": {},
   "outputs": [],
   "source": [
    "polars_prod = pl.from_pandas(production.reset_index())\n",
    "\n",
    "prod_res = (\n",
    "    polars_prod.with_columns(\n",
    "        (pl.col(\"Crop\").str.to_lowercase() + \".png\").alias(\"icon\"),\n",
    "    )\n",
    "    .head(9)\n",
    "    .select(\"icon\", \"Farm\", \"Bushels\", \"Acres Worked\", \"Total Acres\", \"Bu/Acres Worked\", \"Bu/Total Acres\", \"Moisture\")\n",
    ")"
   ]
  },
  {
   "cell_type": "code",
   "execution_count": null,
   "metadata": {},
   "outputs": [],
   "source": [
    "prod_gt = GT(prod_res, rowname_col=\"icon\").tab_header(title=f\"{gda.year} Production YTD\",\n",
    "            subtitle=\"Based on John Deere Operations Center Data\") \\\n",
    "               .tab_stubhead(label=\"Crop\") \\\n",
    "               .fmt_number([\"Bushels\", \"Total Acres\", \"Acres Worked\", \"Bu/Acres Worked\", \"Bu/Total Acres\"], decimals=0) \\\n",
    "               .fmt_number([\"Bu/Acres Worked\", \"Bu/Total Acres\", \"Moisture\"], decimals=1) \\\n",
    "               .fmt_image(\"icon\", path=\"./img/\")\n",
    "prod_gt"
   ]
  },
  {
   "cell_type": "code",
   "execution_count": null,
   "metadata": {},
   "outputs": [],
   "source": [
    "path = Path(f\"{gda.get_config()[\"Paths\"][\"html\"]}/production.html\")\n",
    "path.write_text(prod_gt.as_raw_html())"
   ]
  },
  {
   "cell_type": "code",
   "execution_count": null,
   "metadata": {},
   "outputs": [],
   "source": [
    "prod_gt.as_raw_html()"
   ]
  },
  {
   "cell_type": "code",
   "execution_count": null,
   "metadata": {},
   "outputs": [],
   "source": [
    "from jinja2 import Environment, FileSystemLoader\n",
    "from gnucash_business_reports.config import get_config\n",
    "\n",
    "file_loader = FileSystemLoader(\"templates\")\n",
    "env = Environment(loader=file_loader) # defaults are fine\n",
    "guts = prod_gt.as_raw_html()\n",
    "template = env.get_template(\"printable.html\")\n",
    "\n",
    "report_details = {\n",
    "        \"report_name\": f\"{gda.year} Transaction Detail Report\",\n",
    "        \"organization_name\": f\"\"\"{get_config()[\"Organization\"][\"business_name\"]}\"\"\",\n",
    "    }\n",
    "output = template.render(\n",
    "    guts=guts,\n",
    "    details=report_details\n",
    ")\n",
    "with open(f\"templates/{gda.year}-Detail_Report.html\", \"w\") as f:\n",
    "    f.write(output)"
   ]
  }
 ],
 "metadata": {
  "kernelspec": {
   "display_name": "python-3.12",
   "language": "python",
   "name": "python3"
  },
  "language_info": {
   "codemirror_mode": {
    "name": "ipython",
    "version": 3
   },
   "file_extension": ".py",
   "mimetype": "text/x-python",
   "name": "python",
   "nbconvert_exporter": "python",
   "pygments_lexer": "ipython3",
   "version": "3.12.6"
  }
 },
 "nbformat": 4,
 "nbformat_minor": 2
}
