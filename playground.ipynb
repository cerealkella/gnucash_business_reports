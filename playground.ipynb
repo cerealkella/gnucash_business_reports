{
 "cells": [
  {
   "cell_type": "code",
   "execution_count": null,
   "metadata": {},
   "outputs": [],
   "source": [
    "import pandas as pd\n",
    "from gnucash_business_reports.builder import GnuCash_Data_Analysis\n",
    "\n",
    "\n",
    "gda = GnuCash_Data_Analysis()\n",
    "gda.year = 2023"
   ]
  },
  {
   "cell_type": "code",
   "execution_count": null,
   "metadata": {},
   "outputs": [],
   "source": [
    "pushups = gda.joplin_note_query(\" WHERE title like 'Push-ups' \").astype({'body': 'int32'})\n",
    "pushups[\"created_date\"] = pd.to_datetime(pushups[\"created_date\"])\n",
    "weekly = pushups.groupby(pd.Grouper(key=\"created_date\", freq='W'))['body'].mean().reset_index()\n",
    "monthly_push = pushups.groupby(pd.Grouper(key=\"created_date\", freq='M'))['body'].mean().reset_index()\n",
    "monthly_push.head()"
   ]
  },
  {
   "cell_type": "code",
   "execution_count": null,
   "metadata": {},
   "outputs": [],
   "source": [
    "weight = gda.joplin_note_query(\" WHERE title like 'Weigh-in' and created_date > '2020-01-01'\").astype({'body': 'float'})\n",
    "weight[\"created_date\"] = pd.to_datetime(weight[\"created_date\"])\n",
    "monthly = weight.groupby(pd.Grouper(key=\"created_date\", freq='M'))['body'].mean().reset_index()"
   ]
  },
  {
   "cell_type": "code",
   "execution_count": null,
   "metadata": {},
   "outputs": [],
   "source": [
    "monthly_push.plot.bar(y=\"body\")"
   ]
  }
 ],
 "metadata": {
  "kernelspec": {
   "display_name": "python-3.11",
   "language": "python",
   "name": "python3"
  },
  "language_info": {
   "codemirror_mode": {
    "name": "ipython",
    "version": 3
   },
   "file_extension": ".py",
   "mimetype": "text/x-python",
   "name": "python",
   "nbconvert_exporter": "python",
   "pygments_lexer": "ipython3",
   "version": "3.11.6"
  }
 },
 "nbformat": 4,
 "nbformat_minor": 2
}
