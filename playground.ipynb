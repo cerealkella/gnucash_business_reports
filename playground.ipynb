{
 "cells": [
  {
   "cell_type": "code",
   "execution_count": null,
   "metadata": {},
   "outputs": [],
   "source": [
    "import pandas as pd\n",
    "from gnucash_business_reports.builder import GnuCash_Data_Analysis\n",
    "\n",
    "\n",
    "gda = GnuCash_Data_Analysis()\n",
    "gda.year = 2023"
   ]
  },
  {
   "cell_type": "code",
   "execution_count": null,
   "metadata": {},
   "outputs": [],
   "source": [
    "pushups = gda.joplin_note_query(\" WHERE title like 'Push-ups%' \").astype({'body': 'int32'})\n",
    "# pushups.dtypes\n",
    "# pushups[[\"created_date\", \"body\"]].to_csv(\"export/pushups.csv\", index=False)\n",
    "pushups.tail(20)"
   ]
  },
  {
   "cell_type": "code",
   "execution_count": null,
   "metadata": {},
   "outputs": [],
   "source": [
    "daily = pushups.groupby(pd.Grouper(key=\"created_date\", freq='D'))['body'].sum().reset_index()\n",
    "daily"
   ]
  },
  {
   "cell_type": "code",
   "execution_count": null,
   "metadata": {},
   "outputs": [],
   "source": [
    "weekly = daily.groupby(pd.Grouper(key=\"created_date\", freq='W'))['body'].mean().reset_index()\n",
    "monthly_push = daily.groupby(pd.Grouper(key=\"created_date\", freq='M'))['body'].mean().reset_index()\n",
    "monthly_push.head(10)"
   ]
  },
  {
   "cell_type": "code",
   "execution_count": null,
   "metadata": {},
   "outputs": [],
   "source": [
    "monthly_push.plot.bar(y=\"body\")"
   ]
  },
  {
   "cell_type": "code",
   "execution_count": null,
   "metadata": {},
   "outputs": [],
   "source": [
    "weekly.tail(20)"
   ]
  },
  {
   "cell_type": "code",
   "execution_count": null,
   "metadata": {},
   "outputs": [],
   "source": [
    "weekly.plot.bar(y=\"body\")"
   ]
  },
  {
   "cell_type": "code",
   "execution_count": null,
   "metadata": {},
   "outputs": [],
   "source": [
    "weight = gda.joplin_note_query(\" WHERE title like 'Weigh-in%' and created_date > '2020-01-01'\").astype({'body': 'float'})\n",
    "monthly = weight.groupby(pd.Grouper(key=\"created_date\", freq='M'))['body'].mean().reset_index()"
   ]
  },
  {
   "cell_type": "code",
   "execution_count": null,
   "metadata": {},
   "outputs": [],
   "source": [
    "monthly.tail(20)"
   ]
  },
  {
   "cell_type": "code",
   "execution_count": null,
   "metadata": {},
   "outputs": [],
   "source": [
    "monthly.plot.bar(y=\"body\")"
   ]
  }
 ],
 "metadata": {
  "kernelspec": {
   "display_name": "python-3.11",
   "language": "python",
   "name": "python3"
  },
  "language_info": {
   "codemirror_mode": {
    "name": "ipython",
    "version": 3
   },
   "file_extension": ".py",
   "mimetype": "text/x-python",
   "name": "python",
   "nbconvert_exporter": "python",
   "pygments_lexer": "ipython3",
   "version": "3.11.8"
  }
 },
 "nbformat": 4,
 "nbformat_minor": 2
}
