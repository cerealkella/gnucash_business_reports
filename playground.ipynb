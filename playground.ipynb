{
 "cells": [
  {
   "cell_type": "code",
   "execution_count": null,
   "metadata": {},
   "outputs": [],
   "source": [
    "import pandas as pd\n",
    "from gnucash_business_reports.builder import GnuCash_Data_Analysis\n",
    "\n",
    "\n",
    "gda = GnuCash_Data_Analysis()\n",
    "gda.year = 2024"
   ]
  },
  {
   "cell_type": "code",
   "execution_count": null,
   "metadata": {},
   "outputs": [],
   "source": [
    "total_notes = gda.joplin_note_query()\n",
    "len(total_notes)"
   ]
  },
  {
   "cell_type": "code",
   "execution_count": null,
   "metadata": {},
   "outputs": [],
   "source": [
    "space = gda.joplin_note_query(\" WHERE title like 'Push-ups%' AND body not like '50'\")\n",
    "space.tail(20)"
   ]
  },
  {
   "cell_type": "code",
   "execution_count": null,
   "metadata": {},
   "outputs": [],
   "source": [
    "pushups = gda.joplin_note_query(\" WHERE title like 'Push-ups%' \").astype({'body': 'int32'})\n",
    "# pushups.dtypes\n",
    "# pushups[[\"created_date\", \"body\"]].to_csv(\"export/pushups.csv\", index=False)\n",
    "pushups.tail(20)"
   ]
  },
  {
   "cell_type": "code",
   "execution_count": null,
   "metadata": {},
   "outputs": [],
   "source": [
    "chinups = gda.joplin_note_query(\" WHERE title like 'Chinups%' \").astype({'body': 'int32'})\n",
    "daily_chinups = chinups.groupby(pd.Grouper(key=\"created_date\", freq='D'))['body'].sum().reset_index()\n",
    "daily_chinups.tail(52)"
   ]
  },
  {
   "cell_type": "code",
   "execution_count": null,
   "metadata": {},
   "outputs": [],
   "source": [
    "pullups = gda.joplin_note_query(\" WHERE title like 'Pull-ups%' \").astype({'body': 'int32'})\n",
    "daily_pullups = pullups.groupby(pd.Grouper(key=\"created_date\", freq='D'))['body'].sum().reset_index()\n",
    "daily_pullups.tail(52)"
   ]
  },
  {
   "cell_type": "code",
   "execution_count": null,
   "metadata": {},
   "outputs": [],
   "source": [
    "weekly_pullups = daily_pullups.groupby(pd.Grouper(key=\"created_date\", freq='W'))['body'].sum().reset_index()\n",
    "weekly_pullups.tail(52)"
   ]
  },
  {
   "cell_type": "code",
   "execution_count": null,
   "metadata": {},
   "outputs": [],
   "source": [
    "daily_pushups = pushups.groupby(pd.Grouper(key=\"created_date\", freq='D'))['body'].sum().reset_index()\n",
    "daily_pushups.set_index(\"created_date\", inplace=True)\n",
    "daily_pushups.tail()"
   ]
  },
  {
   "cell_type": "code",
   "execution_count": null,
   "metadata": {},
   "outputs": [],
   "source": [
    "print(f\"\"\"        Daily Push-Ups -- {daily_pushups.count()}\"\"\")\n",
    "print(f\"\"\"Average Daily Push-Ups -- {daily_pushups.mean()}\"\"\")\n",
    "print(f\"\"\"    Min Daily Push-Ups -- {daily_pushups.min()}\"\"\")\n",
    "print(f\"\"\"    Max Daily Push-Ups -- {daily_pushups.max()}\"\"\")\n",
    "print(f\"\"\" Median Daily Push-Ups -- {daily_pushups.median()}\"\"\")\n",
    "print(f\"\"\"        Total Push-Ups -- {daily_pushups.sum()}\"\"\")"
   ]
  },
  {
   "cell_type": "code",
   "execution_count": null,
   "metadata": {},
   "outputs": [],
   "source": [
    "daily_pushups.to_csv(\"daily_pushups.csv\")"
   ]
  },
  {
   "cell_type": "code",
   "execution_count": null,
   "metadata": {},
   "outputs": [],
   "source": [
    "weekly = daily.groupby(pd.Grouper(key=\"created_date\", freq='W'))['body'].mean().reset_index()\n",
    "monthly_push = daily.groupby(pd.Grouper(key=\"created_date\", freq='M'))['body'].mean().reset_index()\n",
    "monthly_push.head(10)"
   ]
  },
  {
   "cell_type": "code",
   "execution_count": null,
   "metadata": {},
   "outputs": [],
   "source": [
    "monthly_push.plot.bar(y=\"body\")"
   ]
  },
  {
   "cell_type": "code",
   "execution_count": null,
   "metadata": {},
   "outputs": [],
   "source": [
    "weekly.tail(20)"
   ]
  },
  {
   "cell_type": "code",
   "execution_count": null,
   "metadata": {},
   "outputs": [],
   "source": [
    "weekly.plot.bar(y=\"body\")"
   ]
  },
  {
   "cell_type": "code",
   "execution_count": null,
   "metadata": {},
   "outputs": [],
   "source": [
    "weight = gda.joplin_note_query(\" WHERE title like 'Weigh-in%' and created_date > '2020-01-01'\").astype({'body': 'float'})\n",
    "monthly = weight.groupby(pd.Grouper(key=\"created_date\", freq='M'))['body'].mean().reset_index()"
   ]
  },
  {
   "cell_type": "code",
   "execution_count": null,
   "metadata": {},
   "outputs": [],
   "source": [
    "monthly.tail(30)"
   ]
  },
  {
   "cell_type": "code",
   "execution_count": null,
   "metadata": {},
   "outputs": [],
   "source": [
    "monthly.plot.bar(y=\"body\")"
   ]
  }
 ],
 "metadata": {
  "kernelspec": {
   "display_name": "python-3.11",
   "language": "python",
   "name": "python3"
  },
  "language_info": {
   "codemirror_mode": {
    "name": "ipython",
    "version": 3
   },
   "file_extension": ".py",
   "mimetype": "text/x-python",
   "name": "python",
   "nbconvert_exporter": "python",
   "pygments_lexer": "ipython3",
   "version": "3.12.5"
  }
 },
 "nbformat": 4,
 "nbformat_minor": 2
}
